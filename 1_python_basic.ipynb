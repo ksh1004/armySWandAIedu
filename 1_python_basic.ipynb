{
  "cells": [
    {
      "cell_type": "code",
      "execution_count": null,
      "id": "a5bd2d7a",
      "metadata": {
        "id": "a5bd2d7a",
        "outputId": "d5d59b5b-3b63-4b8f-c7f5-25c271d3dda2"
      },
      "outputs": [
        {
          "name": "stdout",
          "output_type": "stream",
          "text": [
            "3\n"
          ]
        }
      ],
      "source": [
        "# <- 주석 (Comment)\n",
        "\n",
        "a = 3\n",
        "print(a) # Shift + Enter\n",
        "\n",
        "# 편집 모드 (edit mode) -> ESC -> 명령모드 (Ccommand mode) -> ENTER -> 편집 모드\n",
        "\n",
        "# X / C / V : 셀 잘라내기 / 복사 / 붙여넣기\n",
        "# A(above) / B(below) : 각각 위 / 아래에 셀 추가\n",
        "# DD(delete) : 셀 제거\n",
        "# Z : 지운 셀 되살리기\n",
        "\n",
        "# M : 코드 셀을 마크다운 셀로 변경\n",
        "# Y : 마크다운 셀을 코드 셀로 변경"
      ]
    },
    {
      "cell_type": "markdown",
      "id": "c60c03d6",
      "metadata": {
        "id": "c60c03d6"
      },
      "source": [
        "## 두번째로 큰 제목 (##)\n",
        "#의 갯수에 따라 제목의 크기가 달라진다.\n",
        "**별 두개는 굵은 글씨**\n",
        "> >는 인용문에 사용\n",
        "- 1번항목\n",
        "- 2번항목\n",
        "- 3번항목 (- 사용)\n",
        "\n",
        "<p style='color:red;'>HTML P 태그 </p>\n",
        "궁금한 것은 마크다운 문법을 검색\n",
        "<hr>"
      ]
    },
    {
      "cell_type": "code",
      "execution_count": null,
      "id": "ec1f2e5c",
      "metadata": {
        "id": "ec1f2e5c"
      },
      "outputs": [],
      "source": [
        "# Tab 키를 누르면 함수 이름 자동완성"
      ]
    },
    {
      "cell_type": "code",
      "execution_count": null,
      "id": "a158b57f",
      "metadata": {
        "id": "a158b57f"
      },
      "outputs": [],
      "source": [
        "print() # 함수 이름 뒤에 Shift + Tab키로 HELP(함수에 대한 설명)를 확인할 수 있다."
      ]
    },
    {
      "cell_type": "markdown",
      "source": [
        "###1-4. 기초 Data Type"
      ],
      "metadata": {
        "id": "pDCsf_yYLuIA"
      },
      "id": "pDCsf_yYLuIA"
    },
    {
      "cell_type": "code",
      "execution_count": 1,
      "id": "7afb7199",
      "metadata": {
        "id": "7afb7199"
      },
      "outputs": [],
      "source": [
        "x = 9   # 메모리에 x라는 변수를 선언(declaration)하고 해당 변수에 9라는 값을 할당(assignment)한다."
      ]
    },
    {
      "cell_type": "code",
      "source": [
        "print(x)"
      ],
      "metadata": {
        "colab": {
          "base_uri": "https://localhost:8080/"
        },
        "id": "9PyXS9uMMwDg",
        "outputId": "86a0cccd-d491-4119-9d6e-4e311c4c4d84"
      },
      "id": "9PyXS9uMMwDg",
      "execution_count": 2,
      "outputs": [
        {
          "output_type": "stream",
          "name": "stdout",
          "text": [
            "9\n"
          ]
        }
      ]
    },
    {
      "cell_type": "code",
      "source": [
        "type(x)"
      ],
      "metadata": {
        "colab": {
          "base_uri": "https://localhost:8080/"
        },
        "id": "gyAdHsu3MymC",
        "outputId": "eb64f420-b06e-44cb-e507-f6a12cb7738f"
      },
      "id": "gyAdHsu3MymC",
      "execution_count": 3,
      "outputs": [
        {
          "output_type": "execute_result",
          "data": {
            "text/plain": [
              "int"
            ]
          },
          "metadata": {},
          "execution_count": 3
        }
      ]
    },
    {
      "cell_type": "code",
      "source": [
        "x + 1"
      ],
      "metadata": {
        "colab": {
          "base_uri": "https://localhost:8080/"
        },
        "id": "eTferYpAM1AC",
        "outputId": "c3835a80-b124-42f9-9edd-0c93460548a8"
      },
      "id": "eTferYpAM1AC",
      "execution_count": 4,
      "outputs": [
        {
          "output_type": "execute_result",
          "data": {
            "text/plain": [
              "10"
            ]
          },
          "metadata": {},
          "execution_count": 4
        }
      ]
    },
    {
      "cell_type": "code",
      "source": [
        "s = \"Hello\"\n",
        "print(s)"
      ],
      "metadata": {
        "colab": {
          "base_uri": "https://localhost:8080/"
        },
        "id": "tOaJE6hzM72q",
        "outputId": "24e0e38c-216b-4f08-cb9c-1c9f71e20308"
      },
      "id": "tOaJE6hzM72q",
      "execution_count": 5,
      "outputs": [
        {
          "output_type": "stream",
          "name": "stdout",
          "text": [
            "Hello\n"
          ]
        }
      ]
    },
    {
      "cell_type": "code",
      "source": [
        "type(s)"
      ],
      "metadata": {
        "colab": {
          "base_uri": "https://localhost:8080/"
        },
        "id": "JFlth7G-NpjK",
        "outputId": "03b88925-bd0e-4c73-8d50-a9a0e016797e"
      },
      "id": "JFlth7G-NpjK",
      "execution_count": 6,
      "outputs": [
        {
          "output_type": "execute_result",
          "data": {
            "text/plain": [
              "str"
            ]
          },
          "metadata": {},
          "execution_count": 6
        }
      ]
    },
    {
      "cell_type": "code",
      "source": [
        "x * 2"
      ],
      "metadata": {
        "colab": {
          "base_uri": "https://localhost:8080/"
        },
        "id": "KB_Br2eCOAGV",
        "outputId": "4ea8db9e-944a-4615-dcd6-2d2bb596e113"
      },
      "id": "KB_Br2eCOAGV",
      "execution_count": 7,
      "outputs": [
        {
          "output_type": "execute_result",
          "data": {
            "text/plain": [
              "18"
            ]
          },
          "metadata": {},
          "execution_count": 7
        }
      ]
    },
    {
      "cell_type": "code",
      "source": [
        "x ** 2"
      ],
      "metadata": {
        "colab": {
          "base_uri": "https://localhost:8080/"
        },
        "id": "9Vhv1o0GOAC2",
        "outputId": "e08f00ec-4091-4710-8989-ce5edd894255"
      },
      "id": "9Vhv1o0GOAC2",
      "execution_count": 10,
      "outputs": [
        {
          "output_type": "execute_result",
          "data": {
            "text/plain": [
              "81"
            ]
          },
          "metadata": {},
          "execution_count": 10
        }
      ]
    },
    {
      "cell_type": "code",
      "source": [
        "x / 2"
      ],
      "metadata": {
        "colab": {
          "base_uri": "https://localhost:8080/"
        },
        "id": "SJdGyantN__E",
        "outputId": "b5777387-93a0-4074-9ff1-f05581480104"
      },
      "id": "SJdGyantN__E",
      "execution_count": 11,
      "outputs": [
        {
          "output_type": "execute_result",
          "data": {
            "text/plain": [
              "4.5"
            ]
          },
          "metadata": {},
          "execution_count": 11
        }
      ]
    },
    {
      "cell_type": "code",
      "source": [
        "x // 2"
      ],
      "metadata": {
        "colab": {
          "base_uri": "https://localhost:8080/"
        },
        "id": "nAoCU8-3N_1Q",
        "outputId": "2d4c5178-aac6-4338-e564-a575b42036c1"
      },
      "id": "nAoCU8-3N_1Q",
      "execution_count": 12,
      "outputs": [
        {
          "output_type": "execute_result",
          "data": {
            "text/plain": [
              "4"
            ]
          },
          "metadata": {},
          "execution_count": 12
        }
      ]
    },
    {
      "cell_type": "code",
      "source": [
        "x % 2"
      ],
      "metadata": {
        "colab": {
          "base_uri": "https://localhost:8080/"
        },
        "id": "Sts08CjAO7wb",
        "outputId": "ef8b67a2-4339-4e44-995f-41730fa9c85e"
      },
      "id": "Sts08CjAO7wb",
      "execution_count": 13,
      "outputs": [
        {
          "output_type": "execute_result",
          "data": {
            "text/plain": [
              "1"
            ]
          },
          "metadata": {},
          "execution_count": 13
        }
      ]
    },
    {
      "cell_type": "code",
      "source": [
        "x += 1\n",
        "x"
      ],
      "metadata": {
        "colab": {
          "base_uri": "https://localhost:8080/"
        },
        "id": "pFbtwblWO7s6",
        "outputId": "6b45cf5e-6b56-45a3-f85e-0095528faefa"
      },
      "id": "pFbtwblWO7s6",
      "execution_count": 14,
      "outputs": [
        {
          "output_type": "execute_result",
          "data": {
            "text/plain": [
              "10"
            ]
          },
          "metadata": {},
          "execution_count": 14
        }
      ]
    },
    {
      "cell_type": "code",
      "source": [
        "x *= 2\n",
        "x"
      ],
      "metadata": {
        "colab": {
          "base_uri": "https://localhost:8080/"
        },
        "id": "Zq2mUsl-O7pG",
        "outputId": "dbeb12bf-d26d-4e42-f44a-02840142bf10"
      },
      "id": "Zq2mUsl-O7pG",
      "execution_count": 15,
      "outputs": [
        {
          "output_type": "execute_result",
          "data": {
            "text/plain": [
              "20"
            ]
          },
          "metadata": {},
          "execution_count": 15
        }
      ]
    },
    {
      "cell_type": "code",
      "source": [
        "y = 2.5"
      ],
      "metadata": {
        "id": "syCRidnyO7li"
      },
      "id": "syCRidnyO7li",
      "execution_count": 16,
      "outputs": []
    },
    {
      "cell_type": "code",
      "source": [
        "type(y)"
      ],
      "metadata": {
        "colab": {
          "base_uri": "https://localhost:8080/"
        },
        "id": "sCDOOPMiPgt5",
        "outputId": "3795318f-60a2-493b-c159-321a0417ff42"
      },
      "id": "sCDOOPMiPgt5",
      "execution_count": 17,
      "outputs": [
        {
          "output_type": "execute_result",
          "data": {
            "text/plain": [
              "float"
            ]
          },
          "metadata": {},
          "execution_count": 17
        }
      ]
    },
    {
      "cell_type": "code",
      "source": [
        "int(y)"
      ],
      "metadata": {
        "colab": {
          "base_uri": "https://localhost:8080/"
        },
        "id": "jVXOmByPPggq",
        "outputId": "1439fd4b-eadc-43f3-dfc2-09b14fb7aa89"
      },
      "id": "jVXOmByPPggq",
      "execution_count": 18,
      "outputs": [
        {
          "output_type": "execute_result",
          "data": {
            "text/plain": [
              "2"
            ]
          },
          "metadata": {},
          "execution_count": 18
        }
      ]
    },
    {
      "cell_type": "code",
      "source": [
        "print(y, y+1, y*2, y**2)"
      ],
      "metadata": {
        "colab": {
          "base_uri": "https://localhost:8080/"
        },
        "id": "G-Ausd3jPgdI",
        "outputId": "87742966-2a1e-41d1-8195-a1f2095d742b"
      },
      "id": "G-Ausd3jPgdI",
      "execution_count": 19,
      "outputs": [
        {
          "output_type": "stream",
          "name": "stdout",
          "text": [
            "2.5 3.5 5.0 6.25\n"
          ]
        }
      ]
    }
  ],
  "metadata": {
    "kernelspec": {
      "display_name": "Python 3 (ipykernel)",
      "language": "python",
      "name": "python3"
    },
    "language_info": {
      "codemirror_mode": {
        "name": "ipython",
        "version": 3
      },
      "file_extension": ".py",
      "mimetype": "text/x-python",
      "name": "python",
      "nbconvert_exporter": "python",
      "pygments_lexer": "ipython3",
      "version": "3.9.12"
    },
    "colab": {
      "provenance": []
    }
  },
  "nbformat": 4,
  "nbformat_minor": 5
}