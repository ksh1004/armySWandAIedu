{
  "cells": [
    {
      "cell_type": "code",
      "execution_count": null,
      "id": "a5bd2d7a",
      "metadata": {
        "id": "a5bd2d7a",
        "outputId": "d5d59b5b-3b63-4b8f-c7f5-25c271d3dda2"
      },
      "outputs": [
        {
          "name": "stdout",
          "output_type": "stream",
          "text": [
            "3\n"
          ]
        }
      ],
      "source": [
        "# <- 주석 (Comment)\n",
        "\n",
        "a = 3\n",
        "print(a) # Shift + Enter\n",
        "\n",
        "# 편집 모드 (edit mode) -> ESC -> 명령모드 (Ccommand mode) -> ENTER -> 편집 모드\n",
        "\n",
        "# X / C / V : 셀 잘라내기 / 복사 / 붙여넣기\n",
        "# A(above) / B(below) : 각각 위 / 아래에 셀 추가\n",
        "# DD(delete) : 셀 제거\n",
        "# Z : 지운 셀 되살리기\n",
        "\n",
        "# M : 코드 셀을 마크다운 셀로 변경\n",
        "# Y : 마크다운 셀을 코드 셀로 변경"
      ]
    },
    {
      "cell_type": "markdown",
      "id": "c60c03d6",
      "metadata": {
        "id": "c60c03d6"
      },
      "source": [
        "## 두번째로 큰 제목 (##)\n",
        "#의 갯수에 따라 제목의 크기가 달라진다.\n",
        "**별 두개는 굵은 글씨**\n",
        "> >는 인용문에 사용\n",
        "- 1번항목\n",
        "- 2번항목\n",
        "- 3번항목 (- 사용)\n",
        "\n",
        "<p style='color:red;'>HTML P 태그 </p>\n",
        "궁금한 것은 마크다운 문법을 검색\n",
        "<hr>"
      ]
    },
    {
      "cell_type": "code",
      "execution_count": null,
      "id": "ec1f2e5c",
      "metadata": {
        "id": "ec1f2e5c"
      },
      "outputs": [],
      "source": [
        "# Tab 키를 누르면 함수 이름 자동완성"
      ]
    },
    {
      "cell_type": "code",
      "execution_count": null,
      "id": "a158b57f",
      "metadata": {
        "id": "a158b57f"
      },
      "outputs": [],
      "source": [
        "print() # 함수 이름 뒤에 Shift + Tab키로 HELP(함수에 대한 설명)를 확인할 수 있다."
      ]
    },
    {
      "cell_type": "markdown",
      "source": [
        "###1. 기초 Data Type"
      ],
      "metadata": {
        "id": "pDCsf_yYLuIA"
      },
      "id": "pDCsf_yYLuIA"
    },
    {
      "cell_type": "code",
      "execution_count": null,
      "id": "7afb7199",
      "metadata": {
        "id": "7afb7199"
      },
      "outputs": [],
      "source": [
        "x = 9   # 메모리에 x라는 변수를 선언(declaration)하고 해당 변수에 9라는 값을 할당(assignment)한다."
      ]
    },
    {
      "cell_type": "code",
      "source": [
        "print(x)"
      ],
      "metadata": {
        "colab": {
          "base_uri": "https://localhost:8080/"
        },
        "id": "9PyXS9uMMwDg",
        "outputId": "86a0cccd-d491-4119-9d6e-4e311c4c4d84"
      },
      "id": "9PyXS9uMMwDg",
      "execution_count": null,
      "outputs": [
        {
          "output_type": "stream",
          "name": "stdout",
          "text": [
            "9\n"
          ]
        }
      ]
    },
    {
      "cell_type": "code",
      "source": [
        "type(x)"
      ],
      "metadata": {
        "colab": {
          "base_uri": "https://localhost:8080/"
        },
        "id": "gyAdHsu3MymC",
        "outputId": "eb64f420-b06e-44cb-e507-f6a12cb7738f"
      },
      "id": "gyAdHsu3MymC",
      "execution_count": null,
      "outputs": [
        {
          "output_type": "execute_result",
          "data": {
            "text/plain": [
              "int"
            ]
          },
          "metadata": {},
          "execution_count": 3
        }
      ]
    },
    {
      "cell_type": "code",
      "source": [
        "x + 1"
      ],
      "metadata": {
        "colab": {
          "base_uri": "https://localhost:8080/"
        },
        "id": "eTferYpAM1AC",
        "outputId": "c3835a80-b124-42f9-9edd-0c93460548a8"
      },
      "id": "eTferYpAM1AC",
      "execution_count": null,
      "outputs": [
        {
          "output_type": "execute_result",
          "data": {
            "text/plain": [
              "10"
            ]
          },
          "metadata": {},
          "execution_count": 4
        }
      ]
    },
    {
      "cell_type": "code",
      "source": [
        "s = \"Hello\"\n",
        "print(s)"
      ],
      "metadata": {
        "colab": {
          "base_uri": "https://localhost:8080/"
        },
        "id": "tOaJE6hzM72q",
        "outputId": "24e0e38c-216b-4f08-cb9c-1c9f71e20308"
      },
      "id": "tOaJE6hzM72q",
      "execution_count": null,
      "outputs": [
        {
          "output_type": "stream",
          "name": "stdout",
          "text": [
            "Hello\n"
          ]
        }
      ]
    },
    {
      "cell_type": "code",
      "source": [
        "type(s)"
      ],
      "metadata": {
        "colab": {
          "base_uri": "https://localhost:8080/"
        },
        "id": "JFlth7G-NpjK",
        "outputId": "03b88925-bd0e-4c73-8d50-a9a0e016797e"
      },
      "id": "JFlth7G-NpjK",
      "execution_count": null,
      "outputs": [
        {
          "output_type": "execute_result",
          "data": {
            "text/plain": [
              "str"
            ]
          },
          "metadata": {},
          "execution_count": 6
        }
      ]
    },
    {
      "cell_type": "code",
      "source": [
        "x * 2"
      ],
      "metadata": {
        "colab": {
          "base_uri": "https://localhost:8080/"
        },
        "id": "KB_Br2eCOAGV",
        "outputId": "4ea8db9e-944a-4615-dcd6-2d2bb596e113"
      },
      "id": "KB_Br2eCOAGV",
      "execution_count": null,
      "outputs": [
        {
          "output_type": "execute_result",
          "data": {
            "text/plain": [
              "18"
            ]
          },
          "metadata": {},
          "execution_count": 7
        }
      ]
    },
    {
      "cell_type": "code",
      "source": [
        "x ** 2"
      ],
      "metadata": {
        "colab": {
          "base_uri": "https://localhost:8080/"
        },
        "id": "9Vhv1o0GOAC2",
        "outputId": "e08f00ec-4091-4710-8989-ce5edd894255"
      },
      "id": "9Vhv1o0GOAC2",
      "execution_count": null,
      "outputs": [
        {
          "output_type": "execute_result",
          "data": {
            "text/plain": [
              "81"
            ]
          },
          "metadata": {},
          "execution_count": 10
        }
      ]
    },
    {
      "cell_type": "code",
      "source": [
        "x / 2"
      ],
      "metadata": {
        "colab": {
          "base_uri": "https://localhost:8080/"
        },
        "id": "SJdGyantN__E",
        "outputId": "b5777387-93a0-4074-9ff1-f05581480104"
      },
      "id": "SJdGyantN__E",
      "execution_count": null,
      "outputs": [
        {
          "output_type": "execute_result",
          "data": {
            "text/plain": [
              "4.5"
            ]
          },
          "metadata": {},
          "execution_count": 11
        }
      ]
    },
    {
      "cell_type": "code",
      "source": [
        "x // 2"
      ],
      "metadata": {
        "colab": {
          "base_uri": "https://localhost:8080/"
        },
        "id": "nAoCU8-3N_1Q",
        "outputId": "2d4c5178-aac6-4338-e564-a575b42036c1"
      },
      "id": "nAoCU8-3N_1Q",
      "execution_count": null,
      "outputs": [
        {
          "output_type": "execute_result",
          "data": {
            "text/plain": [
              "4"
            ]
          },
          "metadata": {},
          "execution_count": 12
        }
      ]
    },
    {
      "cell_type": "code",
      "source": [
        "x % 2"
      ],
      "metadata": {
        "colab": {
          "base_uri": "https://localhost:8080/"
        },
        "id": "Sts08CjAO7wb",
        "outputId": "ef8b67a2-4339-4e44-995f-41730fa9c85e"
      },
      "id": "Sts08CjAO7wb",
      "execution_count": null,
      "outputs": [
        {
          "output_type": "execute_result",
          "data": {
            "text/plain": [
              "1"
            ]
          },
          "metadata": {},
          "execution_count": 13
        }
      ]
    },
    {
      "cell_type": "code",
      "source": [
        "x += 1\n",
        "x"
      ],
      "metadata": {
        "colab": {
          "base_uri": "https://localhost:8080/"
        },
        "id": "pFbtwblWO7s6",
        "outputId": "6b45cf5e-6b56-45a3-f85e-0095528faefa"
      },
      "id": "pFbtwblWO7s6",
      "execution_count": null,
      "outputs": [
        {
          "output_type": "execute_result",
          "data": {
            "text/plain": [
              "10"
            ]
          },
          "metadata": {},
          "execution_count": 14
        }
      ]
    },
    {
      "cell_type": "code",
      "source": [
        "x *= 2\n",
        "x"
      ],
      "metadata": {
        "colab": {
          "base_uri": "https://localhost:8080/"
        },
        "id": "Zq2mUsl-O7pG",
        "outputId": "dbeb12bf-d26d-4e42-f44a-02840142bf10"
      },
      "id": "Zq2mUsl-O7pG",
      "execution_count": null,
      "outputs": [
        {
          "output_type": "execute_result",
          "data": {
            "text/plain": [
              "20"
            ]
          },
          "metadata": {},
          "execution_count": 15
        }
      ]
    },
    {
      "cell_type": "code",
      "source": [
        "y = 2.5"
      ],
      "metadata": {
        "id": "syCRidnyO7li"
      },
      "id": "syCRidnyO7li",
      "execution_count": null,
      "outputs": []
    },
    {
      "cell_type": "code",
      "source": [
        "type(y)"
      ],
      "metadata": {
        "colab": {
          "base_uri": "https://localhost:8080/"
        },
        "id": "sCDOOPMiPgt5",
        "outputId": "3795318f-60a2-493b-c159-321a0417ff42"
      },
      "id": "sCDOOPMiPgt5",
      "execution_count": null,
      "outputs": [
        {
          "output_type": "execute_result",
          "data": {
            "text/plain": [
              "float"
            ]
          },
          "metadata": {},
          "execution_count": 17
        }
      ]
    },
    {
      "cell_type": "code",
      "source": [
        "int(y)"
      ],
      "metadata": {
        "colab": {
          "base_uri": "https://localhost:8080/"
        },
        "id": "jVXOmByPPggq",
        "outputId": "1439fd4b-eadc-43f3-dfc2-09b14fb7aa89"
      },
      "id": "jVXOmByPPggq",
      "execution_count": null,
      "outputs": [
        {
          "output_type": "execute_result",
          "data": {
            "text/plain": [
              "2"
            ]
          },
          "metadata": {},
          "execution_count": 18
        }
      ]
    },
    {
      "cell_type": "code",
      "source": [
        "print(y, y+1, y*2, y**2)"
      ],
      "metadata": {
        "colab": {
          "base_uri": "https://localhost:8080/"
        },
        "id": "G-Ausd3jPgdI",
        "outputId": "87742966-2a1e-41d1-8195-a1f2095d742b"
      },
      "id": "G-Ausd3jPgdI",
      "execution_count": null,
      "outputs": [
        {
          "output_type": "stream",
          "name": "stdout",
          "text": [
            "2.5 3.5 5.0 6.25\n"
          ]
        }
      ]
    },
    {
      "cell_type": "markdown",
      "source": [
        "문자열(string)"
      ],
      "metadata": {
        "id": "3WbDv7kaIAgk"
      },
      "id": "3WbDv7kaIAgk"
    },
    {
      "cell_type": "code",
      "source": [
        "s = \"I'm Hello\""
      ],
      "metadata": {
        "id": "dEi8cmDzIDSH"
      },
      "id": "dEi8cmDzIDSH",
      "execution_count": null,
      "outputs": []
    },
    {
      "cell_type": "code",
      "source": [
        "print(s)"
      ],
      "metadata": {
        "colab": {
          "base_uri": "https://localhost:8080/"
        },
        "id": "Sp5CYre1IIAb",
        "outputId": "f82d8928-dece-4306-868a-56452991030e"
      },
      "id": "Sp5CYre1IIAb",
      "execution_count": null,
      "outputs": [
        {
          "output_type": "stream",
          "name": "stdout",
          "text": [
            "I'm Hello\n"
          ]
        }
      ]
    },
    {
      "cell_type": "code",
      "source": [
        "type(s)"
      ],
      "metadata": {
        "colab": {
          "base_uri": "https://localhost:8080/"
        },
        "id": "MIoea-nLIH81",
        "outputId": "769367b5-441c-4f35-f3d6-dddf6535824f"
      },
      "id": "MIoea-nLIH81",
      "execution_count": null,
      "outputs": [
        {
          "output_type": "execute_result",
          "data": {
            "text/plain": [
              "str"
            ]
          },
          "metadata": {},
          "execution_count": 4
        }
      ]
    },
    {
      "cell_type": "code",
      "source": [
        "len(s)"
      ],
      "metadata": {
        "colab": {
          "base_uri": "https://localhost:8080/"
        },
        "id": "g8IvpGvTIH6U",
        "outputId": "299e920e-d2bf-4bc6-c608-3096f8435629"
      },
      "id": "g8IvpGvTIH6U",
      "execution_count": null,
      "outputs": [
        {
          "output_type": "execute_result",
          "data": {
            "text/plain": [
              "9"
            ]
          },
          "metadata": {},
          "execution_count": 5
        }
      ]
    },
    {
      "cell_type": "code",
      "source": [
        "s.upper()"
      ],
      "metadata": {
        "colab": {
          "base_uri": "https://localhost:8080/",
          "height": 35
        },
        "id": "pUciQCKpIH3h",
        "outputId": "9e7c9621-b08b-4008-ea0d-40293edd1d8a"
      },
      "id": "pUciQCKpIH3h",
      "execution_count": null,
      "outputs": [
        {
          "output_type": "execute_result",
          "data": {
            "text/plain": [
              "\"I'M HELLO\""
            ],
            "application/vnd.google.colaboratory.intrinsic+json": {
              "type": "string"
            }
          },
          "metadata": {},
          "execution_count": 6
        }
      ]
    },
    {
      "cell_type": "code",
      "source": [
        "s.lower()"
      ],
      "metadata": {
        "colab": {
          "base_uri": "https://localhost:8080/",
          "height": 35
        },
        "id": "KJkr29-WIH0e",
        "outputId": "a2ba3e75-4a6c-4d88-85f2-f2c231b91688"
      },
      "id": "KJkr29-WIH0e",
      "execution_count": null,
      "outputs": [
        {
          "output_type": "execute_result",
          "data": {
            "text/plain": [
              "\"i'm hello\""
            ],
            "application/vnd.google.colaboratory.intrinsic+json": {
              "type": "string"
            }
          },
          "metadata": {},
          "execution_count": 7
        }
      ]
    },
    {
      "cell_type": "code",
      "source": [
        "print(\"My name is {}\".format(\"Groot\"))"
      ],
      "metadata": {
        "colab": {
          "base_uri": "https://localhost:8080/"
        },
        "id": "YNhn3jGsIHxz",
        "outputId": "a05acee6-8058-47ba-c6c2-994692ae6a9d"
      },
      "id": "YNhn3jGsIHxz",
      "execution_count": null,
      "outputs": [
        {
          "output_type": "stream",
          "name": "stdout",
          "text": [
            "My name is Groot\n"
          ]
        }
      ]
    },
    {
      "cell_type": "code",
      "source": [
        "print(\"Hello\" + \" \" + \"World\")"
      ],
      "metadata": {
        "colab": {
          "base_uri": "https://localhost:8080/"
        },
        "id": "VkIUaXHnIHnp",
        "outputId": "4eea522a-65d3-4824-be58-77229a83f4e6"
      },
      "id": "VkIUaXHnIHnp",
      "execution_count": null,
      "outputs": [
        {
          "output_type": "stream",
          "name": "stdout",
          "text": [
            "Hello World\n"
          ]
        }
      ]
    },
    {
      "cell_type": "code",
      "source": [
        "print(\"My age is %d\" % 20.2185)"
      ],
      "metadata": {
        "colab": {
          "base_uri": "https://localhost:8080/"
        },
        "id": "RU6dq3tyJxjW",
        "outputId": "027f1254-fb0a-41c5-f9b4-8ff1dd510b2d"
      },
      "id": "RU6dq3tyJxjW",
      "execution_count": null,
      "outputs": [
        {
          "output_type": "stream",
          "name": "stdout",
          "text": [
            "My age is 20\n"
          ]
        }
      ]
    },
    {
      "cell_type": "code",
      "source": [
        "temp = \"Python\""
      ],
      "metadata": {
        "id": "i9184y_AJxf7"
      },
      "id": "i9184y_AJxf7",
      "execution_count": null,
      "outputs": []
    },
    {
      "cell_type": "code",
      "source": [
        "temp[2]"
      ],
      "metadata": {
        "colab": {
          "base_uri": "https://localhost:8080/",
          "height": 35
        },
        "id": "8D_608T_Jxc3",
        "outputId": "1074fa7a-311f-41ac-ac9d-78a7e187b865"
      },
      "id": "8D_608T_Jxc3",
      "execution_count": null,
      "outputs": [
        {
          "output_type": "execute_result",
          "data": {
            "text/plain": [
              "'t'"
            ],
            "application/vnd.google.colaboratory.intrinsic+json": {
              "type": "string"
            }
          },
          "metadata": {},
          "execution_count": 12
        }
      ]
    },
    {
      "cell_type": "code",
      "source": [
        "temp[0:4]"
      ],
      "metadata": {
        "colab": {
          "base_uri": "https://localhost:8080/",
          "height": 35
        },
        "id": "SyyF0nstJxOW",
        "outputId": "119ea1f3-0626-4464-c20e-233ca6ec003b"
      },
      "id": "SyyF0nstJxOW",
      "execution_count": null,
      "outputs": [
        {
          "output_type": "execute_result",
          "data": {
            "text/plain": [
              "'Pyth'"
            ],
            "application/vnd.google.colaboratory.intrinsic+json": {
              "type": "string"
            }
          },
          "metadata": {},
          "execution_count": 13
        }
      ]
    },
    {
      "cell_type": "code",
      "source": [
        "temp[4:]"
      ],
      "metadata": {
        "colab": {
          "base_uri": "https://localhost:8080/",
          "height": 35
        },
        "id": "v7vg8wlgO7aG",
        "outputId": "dc0173bd-169a-444e-942f-5ce7b20a4397"
      },
      "id": "v7vg8wlgO7aG",
      "execution_count": null,
      "outputs": [
        {
          "output_type": "execute_result",
          "data": {
            "text/plain": [
              "'on'"
            ],
            "application/vnd.google.colaboratory.intrinsic+json": {
              "type": "string"
            }
          },
          "metadata": {},
          "execution_count": 14
        }
      ]
    },
    {
      "cell_type": "code",
      "source": [
        "temp[:]"
      ],
      "metadata": {
        "colab": {
          "base_uri": "https://localhost:8080/",
          "height": 35
        },
        "id": "AJjY9mZsO7NB",
        "outputId": "0dd674a0-01c4-4bd4-fa0a-a19a3c76cbca"
      },
      "id": "AJjY9mZsO7NB",
      "execution_count": null,
      "outputs": [
        {
          "output_type": "execute_result",
          "data": {
            "text/plain": [
              "'Python'"
            ],
            "application/vnd.google.colaboratory.intrinsic+json": {
              "type": "string"
            }
          },
          "metadata": {},
          "execution_count": 15
        }
      ]
    },
    {
      "cell_type": "code",
      "source": [
        "temp[-1]"
      ],
      "metadata": {
        "colab": {
          "base_uri": "https://localhost:8080/",
          "height": 35
        },
        "id": "fayUB5LSO7FH",
        "outputId": "6d609366-ab6c-4ca5-da70-6ef940f07de7"
      },
      "id": "fayUB5LSO7FH",
      "execution_count": null,
      "outputs": [
        {
          "output_type": "execute_result",
          "data": {
            "text/plain": [
              "'n'"
            ],
            "application/vnd.google.colaboratory.intrinsic+json": {
              "type": "string"
            }
          },
          "metadata": {},
          "execution_count": 16
        }
      ]
    },
    {
      "cell_type": "code",
      "source": [
        "temp = \"Python is easy\"\n",
        "temp.split()"
      ],
      "metadata": {
        "colab": {
          "base_uri": "https://localhost:8080/"
        },
        "id": "Twuo1fIsO7Br",
        "outputId": "b6ffd0fb-9753-4059-8add-1bbf011cdcca"
      },
      "id": "Twuo1fIsO7Br",
      "execution_count": null,
      "outputs": [
        {
          "output_type": "execute_result",
          "data": {
            "text/plain": [
              "['Python', 'is', 'easy']"
            ]
          },
          "metadata": {},
          "execution_count": 17
        }
      ]
    },
    {
      "cell_type": "code",
      "source": [
        "temp = ['Python', 'is', 'easy']\n",
        "'__'.join(temp)"
      ],
      "metadata": {
        "colab": {
          "base_uri": "https://localhost:8080/",
          "height": 35
        },
        "id": "Dkq1dqJoO6-9",
        "outputId": "59ae2a3d-7d45-4c09-8f98-7dd01a7fffd9"
      },
      "id": "Dkq1dqJoO6-9",
      "execution_count": null,
      "outputs": [
        {
          "output_type": "execute_result",
          "data": {
            "text/plain": [
              "'Python__is__easy'"
            ],
            "application/vnd.google.colaboratory.intrinsic+json": {
              "type": "string"
            }
          },
          "metadata": {},
          "execution_count": 19
        }
      ]
    },
    {
      "cell_type": "code",
      "source": [
        "x = '214'\n",
        "\n",
        "int(x)"
      ],
      "metadata": {
        "colab": {
          "base_uri": "https://localhost:8080/"
        },
        "id": "rL-vvVi1Rn9B",
        "outputId": "4a05adb7-dbdd-4484-d987-684420d3822d"
      },
      "id": "rL-vvVi1Rn9B",
      "execution_count": null,
      "outputs": [
        {
          "output_type": "execute_result",
          "data": {
            "text/plain": [
              "214"
            ]
          },
          "metadata": {},
          "execution_count": 20
        }
      ]
    },
    {
      "cell_type": "code",
      "source": [
        "int('214') + 214"
      ],
      "metadata": {
        "colab": {
          "base_uri": "https://localhost:8080/"
        },
        "id": "ulhqKxhyR3r0",
        "outputId": "7e5173b5-4375-47b8-f95a-f0b4767b5bc3"
      },
      "id": "ulhqKxhyR3r0",
      "execution_count": null,
      "outputs": [
        {
          "output_type": "execute_result",
          "data": {
            "text/plain": [
              "428"
            ]
          },
          "metadata": {},
          "execution_count": 21
        }
      ]
    },
    {
      "cell_type": "markdown",
      "source": [
        "참/거짓 (bool)"
      ],
      "metadata": {
        "id": "DM6wZDD6Rty5"
      },
      "id": "DM6wZDD6Rty5"
    },
    {
      "cell_type": "code",
      "source": [
        "t = True \n",
        "f = False"
      ],
      "metadata": {
        "id": "eUAwA_aER0hV"
      },
      "id": "eUAwA_aER0hV",
      "execution_count": null,
      "outputs": []
    },
    {
      "cell_type": "code",
      "source": [
        "print(t or f)"
      ],
      "metadata": {
        "colab": {
          "base_uri": "https://localhost:8080/"
        },
        "id": "8jfnrE0rR1G-",
        "outputId": "582dfaca-d10e-453c-9e74-b0a9f745a036"
      },
      "id": "8jfnrE0rR1G-",
      "execution_count": null,
      "outputs": [
        {
          "output_type": "stream",
          "name": "stdout",
          "text": [
            "True\n"
          ]
        }
      ]
    },
    {
      "cell_type": "code",
      "source": [
        "print(t and f)"
      ],
      "metadata": {
        "colab": {
          "base_uri": "https://localhost:8080/"
        },
        "id": "X_2SbxLsR03r",
        "outputId": "e13f4364-b7aa-408a-f4f5-910be00ac44b"
      },
      "id": "X_2SbxLsR03r",
      "execution_count": null,
      "outputs": [
        {
          "output_type": "stream",
          "name": "stdout",
          "text": [
            "False\n"
          ]
        }
      ]
    },
    {
      "cell_type": "code",
      "source": [
        "print(not t)"
      ],
      "metadata": {
        "colab": {
          "base_uri": "https://localhost:8080/"
        },
        "id": "UaDYYyvzR00D",
        "outputId": "73b3281c-21f0-49ce-deb9-2de909fcf3b2"
      },
      "id": "UaDYYyvzR00D",
      "execution_count": null,
      "outputs": [
        {
          "output_type": "stream",
          "name": "stdout",
          "text": [
            "False\n"
          ]
        }
      ]
    },
    {
      "cell_type": "code",
      "source": [
        "print(not f)"
      ],
      "metadata": {
        "colab": {
          "base_uri": "https://localhost:8080/"
        },
        "id": "wYaUWJxrR0p0",
        "outputId": "cb022394-f154-4749-a806-3bfb8ec658bd"
      },
      "id": "wYaUWJxrR0p0",
      "execution_count": null,
      "outputs": [
        {
          "output_type": "stream",
          "name": "stdout",
          "text": [
            "True\n"
          ]
        }
      ]
    },
    {
      "cell_type": "code",
      "source": [
        "print(t & f)"
      ],
      "metadata": {
        "colab": {
          "base_uri": "https://localhost:8080/"
        },
        "id": "ZbNxf7xySuDV",
        "outputId": "8bf67831-87eb-4ea9-b6f3-2cf197bd2909"
      },
      "id": "ZbNxf7xySuDV",
      "execution_count": null,
      "outputs": [
        {
          "output_type": "stream",
          "name": "stdout",
          "text": [
            "False\n"
          ]
        }
      ]
    },
    {
      "cell_type": "code",
      "source": [
        "print(t | f)"
      ],
      "metadata": {
        "colab": {
          "base_uri": "https://localhost:8080/"
        },
        "id": "0HxPPQ49SwOa",
        "outputId": "9d3f5a67-c9bf-4c28-ee3e-cf6c2f59560c"
      },
      "id": "0HxPPQ49SwOa",
      "execution_count": null,
      "outputs": [
        {
          "output_type": "stream",
          "name": "stdout",
          "text": [
            "True\n"
          ]
        }
      ]
    },
    {
      "cell_type": "markdown",
      "source": [
        "###2. 함수(function, method)"
      ],
      "metadata": {
        "id": "2IfmxSIxjss7"
      },
      "id": "2IfmxSIxjss7"
    },
    {
      "cell_type": "code",
      "source": [
        "def add_nums(num1, num2):\n",
        "  result = num1 + num2\n",
        "  return result"
      ],
      "metadata": {
        "id": "abO__sOEjv5r"
      },
      "id": "abO__sOEjv5r",
      "execution_count": 1,
      "outputs": []
    },
    {
      "cell_type": "code",
      "source": [
        "add_nums(1, 2)"
      ],
      "metadata": {
        "colab": {
          "base_uri": "https://localhost:8080/"
        },
        "id": "rmDjUoPTkA6e",
        "outputId": "be2dc2d3-f423-4d12-8db3-9ec179ae7c5b"
      },
      "id": "rmDjUoPTkA6e",
      "execution_count": 2,
      "outputs": [
        {
          "output_type": "execute_result",
          "data": {
            "text/plain": [
              "3"
            ]
          },
          "metadata": {},
          "execution_count": 2
        }
      ]
    },
    {
      "cell_type": "code",
      "source": [
        "def add_nums2(num1, num2=10):\n",
        "  result = num1 + num2\n",
        "  return result"
      ],
      "metadata": {
        "id": "onIg2ov6mBcx"
      },
      "id": "onIg2ov6mBcx",
      "execution_count": 3,
      "outputs": []
    },
    {
      "cell_type": "code",
      "source": [
        "#ERROR\n",
        "def add_nums3(num=10, num2):\n",
        "  result = num1 + num2\n",
        "  return result\n",
        "\n",
        "# default 값은 뒤에서부터 설정한다."
      ],
      "metadata": {
        "colab": {
          "base_uri": "https://localhost:8080/",
          "height": 136
        },
        "id": "YQ6IXIPFmE24",
        "outputId": "37bf7f69-886f-4252-f645-c60bf8502446"
      },
      "id": "YQ6IXIPFmE24",
      "execution_count": 4,
      "outputs": [
        {
          "output_type": "error",
          "ename": "SyntaxError",
          "evalue": "ignored",
          "traceback": [
            "\u001b[0;36m  File \u001b[0;32m\"<ipython-input-4-9b7b57e084cb>\"\u001b[0;36m, line \u001b[0;32m2\u001b[0m\n\u001b[0;31m    def add_nums3(num=10, num2):\u001b[0m\n\u001b[0m                          ^\u001b[0m\n\u001b[0;31mSyntaxError\u001b[0m\u001b[0;31m:\u001b[0m non-default argument follows default argument\n"
          ]
        }
      ]
    },
    {
      "cell_type": "code",
      "source": [
        "print(12345, end='______\\n')\n",
        "print(12345, end='---')"
      ],
      "metadata": {
        "colab": {
          "base_uri": "https://localhost:8080/"
        },
        "id": "2gNMifMAmQbK",
        "outputId": "ce2bd441-5fcd-4f31-a3ea-db3ff510e705"
      },
      "id": "2gNMifMAmQbK",
      "execution_count": 8,
      "outputs": [
        {
          "output_type": "stream",
          "name": "stdout",
          "text": [
            "12345______\n",
            "12345---"
          ]
        }
      ]
    },
    {
      "cell_type": "code",
      "source": [
        "def full_name(str1, str2):\n",
        "  print(str1, str2)\n",
        "  print(str1 + str2)"
      ],
      "metadata": {
        "id": "tLJy2SciowdS"
      },
      "id": "tLJy2SciowdS",
      "execution_count": 13,
      "outputs": []
    },
    {
      "cell_type": "code",
      "source": [
        "full_name(\"인하\", \"대학교\")"
      ],
      "metadata": {
        "colab": {
          "base_uri": "https://localhost:8080/"
        },
        "id": "75HsNFBWo76Q",
        "outputId": "5f14356b-96cc-4938-8fc0-3b6a1e9a860e"
      },
      "id": "75HsNFBWo76Q",
      "execution_count": 14,
      "outputs": [
        {
          "output_type": "stream",
          "name": "stdout",
          "text": [
            "인하 대학교\n",
            "인하대학교\n"
          ]
        }
      ]
    },
    {
      "cell_type": "code",
      "source": [
        "def circle_area(radius): # 원의 지름 구하는 함수\n",
        "  area = 3.14 * (radius ** 2)\n",
        "  return area"
      ],
      "metadata": {
        "id": "GtC_BhEtqesK"
      },
      "id": "GtC_BhEtqesK",
      "execution_count": 15,
      "outputs": []
    },
    {
      "cell_type": "code",
      "source": [
        "circle_area(5)"
      ],
      "metadata": {
        "colab": {
          "base_uri": "https://localhost:8080/"
        },
        "id": "i-4xHWXDqwtM",
        "outputId": "bd48dd52-69ca-4e7b-a2a7-6000c89a75fc"
      },
      "id": "i-4xHWXDqwtM",
      "execution_count": 16,
      "outputs": [
        {
          "output_type": "execute_result",
          "data": {
            "text/plain": [
              "78.5"
            ]
          },
          "metadata": {},
          "execution_count": 16
        }
      ]
    }
  ],
  "metadata": {
    "kernelspec": {
      "display_name": "Python 3 (ipykernel)",
      "language": "python",
      "name": "python3"
    },
    "language_info": {
      "codemirror_mode": {
        "name": "ipython",
        "version": 3
      },
      "file_extension": ".py",
      "mimetype": "text/x-python",
      "name": "python",
      "nbconvert_exporter": "python",
      "pygments_lexer": "ipython3",
      "version": "3.9.12"
    },
    "colab": {
      "provenance": []
    }
  },
  "nbformat": 4,
  "nbformat_minor": 5
}