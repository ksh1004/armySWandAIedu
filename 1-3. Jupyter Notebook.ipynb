{
 "cells": [
  {
   "cell_type": "code",
   "execution_count": 1,
   "id": "a5bd2d7a",
   "metadata": {},
   "outputs": [
    {
     "name": "stdout",
     "output_type": "stream",
     "text": [
      "3\n"
     ]
    }
   ],
   "source": [
    "# <- 주석 (Comment)\n",
    "\n",
    "a = 3\n",
    "print(a) # Shift + Enter\n",
    "\n",
    "# 편집 모드 (edit mode) -> ESC -> 명령모드 (Ccommand mode) -> ENTER -> 편집 모드\n",
    "\n",
    "# X / C / V : 셀 잘라내기 / 복사 / 붙여넣기\n",
    "# A(above) / B(below) : 각각 위 / 아래에 셀 추가\n",
    "# DD(delete) : 셀 제거\n",
    "# Z : 지운 셀 되살리기\n",
    "\n",
    "# M : 코드 셀을 마크다운 셀로 변경\n",
    "# Y : 마크다운 셀을 코드 셀로 변경"
   ]
  },
  {
   "cell_type": "markdown",
   "id": "c60c03d6",
   "metadata": {},
   "source": [
    "## 두번째로 큰 제목 (##)\n",
    "#의 갯수에 따라 제목의 크기가 달라진다.\n",
    "**별 두개는 굵은 글씨**\n",
    "> >는 인용문에 사용\n",
    "- 1번항목\n",
    "- 2번항목\n",
    "- 3번항목 (- 사용)\n",
    "\n",
    "<p style='color:red;'>HTML P 태그 </p>\n",
    "궁금한 것은 마크다운 문법을 검색\n",
    "<hr>"
   ]
  },
  {
   "cell_type": "code",
   "execution_count": null,
   "id": "ec1f2e5c",
   "metadata": {},
   "outputs": [],
   "source": [
    "# Tab 키를 누르면 함수 이름 자동완성"
   ]
  },
  {
   "cell_type": "code",
   "execution_count": null,
   "id": "a158b57f",
   "metadata": {},
   "outputs": [],
   "source": [
    "print() # 함수 이름 뒤에 Shift + Tab키로 HELP(함수에 대한 설명)를 확인할 수 있다."
   ]
  },
  {
   "cell_type": "code",
   "execution_count": null,
   "id": "7afb7199",
   "metadata": {},
   "outputs": [],
   "source": []
  }
 ],
 "metadata": {
  "kernelspec": {
   "display_name": "Python 3 (ipykernel)",
   "language": "python",
   "name": "python3"
  },
  "language_info": {
   "codemirror_mode": {
    "name": "ipython",
    "version": 3
   },
   "file_extension": ".py",
   "mimetype": "text/x-python",
   "name": "python",
   "nbconvert_exporter": "python",
   "pygments_lexer": "ipython3",
   "version": "3.9.12"
  }
 },
 "nbformat": 4,
 "nbformat_minor": 5
}
